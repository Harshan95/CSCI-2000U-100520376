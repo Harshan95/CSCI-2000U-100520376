{
 "cells": [
  {
   "cell_type": "code",
   "execution_count": 134,
   "metadata": {
    "collapsed": false
   },
   "outputs": [
    {
     "name": "stdout",
     "output_type": "stream",
     "text": [
      "When n =  10 , rho_n =  3.041840\n",
      "When n =  10 , tau_n =  3.049362\n",
      "When n =  10 ,  mu_n =  3.141385\n",
      "------------------------------------\n",
      "When n =  100 , rho_n =  3.131593\n",
      "When n =  100 , tau_n =  3.132077\n",
      "When n =  100 ,  mu_n =  3.141592\n",
      "------------------------------------\n",
      "When n =  1000 , rho_n =  3.140593\n",
      "When n =  1000 , tau_n =  3.140638\n",
      "When n =  1000 ,  mu_n =  3.141593\n",
      "------------------------------------\n",
      "When n =  10000 , rho_n =  3.141493\n",
      "When n =  10000 , tau_n =  3.141497\n",
      "When n =  10000 ,  mu_n =  3.141593\n",
      "------------------------------------\n",
      "When n =  100000 , rho_n =  3.141583\n",
      "When n =  100000 , tau_n =  3.141583\n",
      "When n =  100000 ,  mu_n =  3.141593\n",
      "------------------------------------\n",
      "When n =  1000000 , rho_n =  3.141592\n",
      "When n =  1000000 , tau_n =  3.141592\n",
      "When n =  1000000 ,  mu_n =  3.141593\n",
      "------------------------------------\n"
     ]
    }
   ],
   "source": [
    "import numpy\n",
    "import numpy as np\n",
    "import math\n",
    "\n",
    "def rho_n(n):\n",
    "    sum1=0;\n",
    "    for x in range(1,n+1):\n",
    "        sum1=sum1+((math.pow(-1,x+1))/((2*x)-1));\n",
    "    \n",
    "    sum1=sum1*4;\n",
    "    return sum1;\n",
    "\n",
    "def tau_n(n):\n",
    "    sum2=0.0;\n",
    "    for x in range(1,n+1):\n",
    "        sum2=sum2+(1/math.pow(x,2));\n",
    "    \n",
    "    sum2=sum2*6;\n",
    "    sum2=math.pow(sum2,0.5);\n",
    "    return sum2;\n",
    "\n",
    "def mu_n(n):\n",
    "    sum3=0.0;\n",
    "    for x in range(1,n+1):\n",
    "        sum3=sum3+(1/math.pow(x,4));\n",
    "    \n",
    "    sum3=sum3*90;\n",
    "    sum3=math.pow(sum3,0.25);\n",
    "    return sum3;\n",
    "\n",
    "when=\"When n = \";\n",
    "rho=\", rho_n = \";\n",
    "tau=\", tau_n = \";\n",
    "mu=\",  mu_n = \";\n",
    "counter=10;\n",
    "\n",
    "while (counter < 1000001):\n",
    "    print (\"%s %d %s %f\" % (when,counter,rho,rho_n(counter)));\n",
    "    \n",
    "    print (\"%s %d %s %f\" % (when,counter,tau,tau_n(counter)));\n",
    "    \n",
    "    print (\"%s %d %s %f\" % (when,counter,mu,mu_n(counter)));\n",
    "    \n",
    "    print(\"------------------------------------\");\n",
    "    counter=counter*10;"
   ]
  }
 ],
 "metadata": {
  "kernelspec": {
   "display_name": "Python 3",
   "language": "python",
   "name": "python3"
  },
  "language_info": {
   "codemirror_mode": {
    "name": "ipython",
    "version": 3
   },
   "file_extension": ".py",
   "mimetype": "text/x-python",
   "name": "python",
   "nbconvert_exporter": "python",
   "pygments_lexer": "ipython3",
   "version": "3.5.0"
  }
 },
 "nbformat": 4,
 "nbformat_minor": 0
}
