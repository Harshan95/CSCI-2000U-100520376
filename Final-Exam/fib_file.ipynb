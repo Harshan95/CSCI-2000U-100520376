{
 "cells": [
  {
   "cell_type": "code",
   "execution_count": 96,
   "metadata": {
    "collapsed": false
   },
   "outputs": [],
   "source": [
    "counter = 0;\n",
    "def fib_file(n,fname):\n",
    "    global counter;\n",
    "    filename=fname+'.txt';\n",
    "    writer=open(filename,'w');\n",
    "    print(\"n             F_n\",file=writer);\n",
    "    while counter<=n:\n",
    "        print(counter,file=writer);\n",
    "       \n",
    "        print(fib_file_(counter),file=writer);\n",
    "        \n",
    "        print(\"           \",file=writer);\n",
    "        counter=counter+1;\n",
    "    writer.close();\n",
    "def fib_file_(n):\n",
    "    if n==0:\n",
    "        return 0;\n",
    "    if n==1:\n",
    "        return 1;\n",
    "    \n",
    "    return fib_file_(n-1)+fib_file_(n-2);\n",
    "\n",
    "\n",
    "fib_file(6,\"test\");\n",
    "\n",
    "        "
   ]
  },
  {
   "cell_type": "code",
   "execution_count": null,
   "metadata": {
    "collapsed": true
   },
   "outputs": [],
   "source": [
    "#second funciton is the recursive one\n"
   ]
  }
 ],
 "metadata": {
  "kernelspec": {
   "display_name": "Python 3",
   "language": "python",
   "name": "python3"
  },
  "language_info": {
   "codemirror_mode": {
    "name": "ipython",
    "version": 3
   },
   "file_extension": ".py",
   "mimetype": "text/x-python",
   "name": "python",
   "nbconvert_exporter": "python",
   "pygments_lexer": "ipython3",
   "version": "3.5.0"
  }
 },
 "nbformat": 4,
 "nbformat_minor": 0
}
